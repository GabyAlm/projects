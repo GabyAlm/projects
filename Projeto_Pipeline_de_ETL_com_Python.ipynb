{
  "nbformat": 4,
  "nbformat_minor": 0,
  "metadata": {
    "colab": {
      "provenance": [],
      "authorship_tag": "ABX9TyNxGf99Y2lXlunYEXWwc0zk",
      "include_colab_link": true
    },
    "kernelspec": {
      "name": "python3",
      "display_name": "Python 3"
    },
    "language_info": {
      "name": "python"
    }
  },
  "cells": [
    {
      "cell_type": "markdown",
      "metadata": {
        "id": "view-in-github",
        "colab_type": "text"
      },
      "source": [
        "<a href=\"https://colab.research.google.com/github/GabyAlm/hello-world/blob/main/Projeto_Pipeline_de_ETL_com_Python.ipynb\" target=\"_parent\"><img src=\"https://colab.research.google.com/assets/colab-badge.svg\" alt=\"Open In Colab\"/></a>"
      ]
    },
    {
      "cell_type": "code",
      "execution_count": 1,
      "metadata": {
        "colab": {
          "base_uri": "https://localhost:8080/"
        },
        "id": "kCPnvp3wyluZ",
        "outputId": "ed76004a-99b6-4f62-c097-682c36a73dad"
      },
      "outputs": [
        {
          "output_type": "stream",
          "name": "stdout",
          "text": [
            "Requirement already satisfied: pandas in /usr/local/lib/python3.10/dist-packages (1.5.3)\n",
            "Requirement already satisfied: python-dateutil>=2.8.1 in /usr/local/lib/python3.10/dist-packages (from pandas) (2.8.2)\n",
            "Requirement already satisfied: pytz>=2020.1 in /usr/local/lib/python3.10/dist-packages (from pandas) (2023.3.post1)\n",
            "Requirement already satisfied: numpy>=1.21.0 in /usr/local/lib/python3.10/dist-packages (from pandas) (1.23.5)\n",
            "Requirement already satisfied: six>=1.5 in /usr/local/lib/python3.10/dist-packages (from python-dateutil>=2.8.1->pandas) (1.16.0)\n"
          ]
        }
      ],
      "source": [
        "pip install pandas\n"
      ]
    },
    {
      "cell_type": "markdown",
      "source": [
        "Extração"
      ],
      "metadata": {
        "id": "7cdWNBDCy5xv"
      }
    },
    {
      "cell_type": "code",
      "source": [
        "import pandas as pd\n",
        "\n",
        "# Extrair dados do arquivo CSV\n",
        "dados = pd.read_csv(\"dados.csv\")\n",
        "\n",
        "# Exibir os dados para verificação\n",
        "print (dados)\n"
      ],
      "metadata": {
        "colab": {
          "base_uri": "https://localhost:8080/"
        },
        "id": "nqIifXZNy2y2",
        "outputId": "a87689df-2790-42ad-a9d9-c8813c9acb4c"
      },
      "execution_count": 5,
      "outputs": [
        {
          "output_type": "stream",
          "name": "stdout",
          "text": [
            "     Nome  Idade          Cidade\n",
            "0    João     30       São Paulo\n",
            "1   Maria     25  Rio de Janeiro\n",
            "2  Carlos     35        Salvador\n"
          ]
        }
      ]
    },
    {
      "cell_type": "markdown",
      "source": [
        "Transformação"
      ],
      "metadata": {
        "id": "kjDeas8uzJRN"
      }
    },
    {
      "cell_type": "code",
      "source": [
        "# Calcular a média de idade\n",
        "media_idade = dados['Idade'].mean()\n",
        "\n",
        "# Exibir a média de idade\n",
        "print(f\"Média de idade: {media_idade:.2f}\")\n"
      ],
      "metadata": {
        "colab": {
          "base_uri": "https://localhost:8080/"
        },
        "id": "_Iyeli7mzHnX",
        "outputId": "4a0afb8e-adbd-42b8-c64e-3ddde1b9ad2a"
      },
      "execution_count": 6,
      "outputs": [
        {
          "output_type": "stream",
          "name": "stdout",
          "text": [
            "Média de idade: 30.00\n"
          ]
        }
      ]
    },
    {
      "cell_type": "markdown",
      "source": [
        "Carregamento"
      ],
      "metadata": {
        "id": "-QrmK--ezQ-F"
      }
    },
    {
      "cell_type": "code",
      "source": [
        "# Criar um novo DataFrame com os resultados da transformação\n",
        "resultados = pd.DataFrame({'Média de Idade': [media_idade]})\n",
        "\n",
        "# Salvar os resultados em um novo arquivo CSV\n",
        "resultados.to_csv('resultados.csv', index=False)\n",
        "\n",
        "# Exibir os resultados finais\n",
        "print(\"Resultados salvos em 'resultados.csv'.\")\n"
      ],
      "metadata": {
        "colab": {
          "base_uri": "https://localhost:8080/"
        },
        "id": "Rs7FGUSQzSUF",
        "outputId": "9c0a27d6-37c2-4c79-9288-0e4c6e1e4dde"
      },
      "execution_count": 7,
      "outputs": [
        {
          "output_type": "stream",
          "name": "stdout",
          "text": [
            "Resultados salvos em 'resultados.csv'.\n"
          ]
        }
      ]
    }
  ]
}